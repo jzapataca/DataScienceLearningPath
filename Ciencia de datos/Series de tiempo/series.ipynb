{
 "cells": [
  {
   "cell_type": "markdown",
   "metadata": {},
   "source": [
    "# Series de tiempo\n",
    "\n",
    "Una serie de tiempo es una secuencia de datos recogidos o registrados en intervalos de tiempo sucesivos. Los datos de una serie de tiempo se ordenan cronológicamente, lo que permite analizar cómo cambian las variables a lo largo del tiempo. Las series de tiempo se utilizan en diversas disciplinas, como la economía, la meteorología, la ingeniería y la ciencia, para modelar y predecir comportamientos futuros basados en patrones históricos.\n",
    "\n",
    "Es importante tener experticia para interpretar la serie detiempo, definir el objetivo del análisis para una correcta recolección de los datos"
   ]
  },
  {
   "cell_type": "code",
   "execution_count": null,
   "metadata": {},
   "outputs": [],
   "source": []
  },
  {
   "cell_type": "code",
   "execution_count": null,
   "metadata": {},
   "outputs": [],
   "source": []
  }
 ],
 "metadata": {
  "kernelspec": {
   "display_name": "envML",
   "language": "python",
   "name": "python3"
  },
  "language_info": {
   "name": "python",
   "version": "3.10.13"
  }
 },
 "nbformat": 4,
 "nbformat_minor": 2
}
